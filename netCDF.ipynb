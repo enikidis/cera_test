{
 "cells": [
  {
   "attachments": {},
   "cell_type": "markdown",
   "metadata": {},
   "source": [
    "# Introduction\n",
    "Scientific geospatial datasets like climatological or oceanographic model results can sometimes grow in complexity and data volume very quickly. If the data is simulated over large geographic regions or generated multiple times per day, it can become very challenging to work with the huge amount of outputs. The NetCDF format provides a solution for efficient data management by storing the datasets in a well-organized manner that allows a successful data analysis in a user-friendly way.\n",
    "## But how to work with NetCDF?\n",
    "Analyzing NetCDF Data with Python is a beginners-friendly guide for learning the basics of reading and analyzing NetCDF. \n",
    "All sections of this four-part tutorial are available as Jupyter Notebooks utilizing the Python programming language and an example NetCDF file from the ADCIRC ocean circulation model. \n",
    "\n"
   ]
  },
  {
   "attachments": {},
   "cell_type": "markdown",
   "metadata": {},
   "source": [
    "# Tutorial\n"
   ]
  },
  {
   "attachments": {},
   "cell_type": "markdown",
   "metadata": {},
   "source": [
    "## Part 1: Getting Started with NetCDF\n"
   ]
  },
  {
   "attachments": {},
   "cell_type": "markdown",
   "metadata": {},
   "source": [
    "### 1.1 - What is NetCDF?\n"
   ]
  },
  {
   "attachments": {},
   "cell_type": "markdown",
   "metadata": {},
   "source": [
    "##### About NetCDF\n",
    "Network common data form (NetCDF) is a data format that is widely used to store multi-dimensional, array-oriented information like geographic, meteorological or oceanographic data. \n",
    "NetCDF often handles huge datasets that hold spatial information and data values sampled several times a day or collected over large geographic regions. \n",
    "The NetCDF file format structure supports this by providing the data values as named arrays that also can hold metadata to describe the dataset.\n"
   ]
  },
  {
   "attachments": {},
   "cell_type": "markdown",
   "metadata": {},
   "source": [
    "#### NetCDF in Python\n",
    "Python provides the powerful NetCDF4 and NumPy libraries that have all the functionalities we need to successfully work with a NetCDF file."
   ]
  },
  {
   "attachments": {},
   "cell_type": "markdown",
   "metadata": {},
   "source": [
    "### 1.2 - Software Installation\n"
   ]
  },
  {
   "attachments": {},
   "cell_type": "markdown",
   "metadata": {},
   "source": [
    "We don't have anything for this yet"
   ]
  },
  {
   "attachments": {},
   "cell_type": "markdown",
   "metadata": {},
   "source": [
    "### 1.3 - Tutorial example NetCDF file"
   ]
  },
  {
   "attachments": {},
   "cell_type": "markdown",
   "metadata": {},
   "source": [
    "In our exercise, we will use an example NetCDF file coming from the oceanographic ADCIRC model. The file contains the underlying mesh topology and the values for the maximum water elevation computed at each mesh node. \n",
    "You can find the file here: (data/maxele.63.nc)"
   ]
  },
  {
   "attachments": {},
   "cell_type": "markdown",
   "metadata": {},
   "source": [
    "## Part 2: Reading a NetCDF File and Understanding its Structure\n"
   ]
  },
  {
   "attachments": {},
   "cell_type": "markdown",
   "metadata": {},
   "source": [
    "### 2.1 - Opening a NetCDF file"
   ]
  },
  {
   "cell_type": "code",
   "execution_count": 2,
   "metadata": {},
   "outputs": [],
   "source": [
    "# importing libraries\n",
    "import netCDF4"
   ]
  },
  {
   "attachments": {},
   "cell_type": "markdown",
   "metadata": {},
   "source": [
    "For reading in the NetCDF file, we will pass it to NetCDF4.Dataset."
   ]
  },
  {
   "cell_type": "code",
   "execution_count": 3,
   "metadata": {},
   "outputs": [],
   "source": [
    "# reading in the NetCDF file\n",
    "myNetCDF = netCDF4.Dataset(r\"data\\maxele.63.nc\")"
   ]
  },
  {
   "attachments": {},
   "cell_type": "markdown",
   "metadata": {},
   "source": [
    "Now that we have loaded our file in Python, we can see how we can get the desired information out of it. For that, let’s have a look at the general structure of a NetCDF file first."
   ]
  },
  {
   "attachments": {},
   "cell_type": "markdown",
   "metadata": {},
   "source": [
    "### 2.2 - NetCDF file structure\n"
   ]
  },
  {
   "attachments": {},
   "cell_type": "markdown",
   "metadata": {},
   "source": [
    "#### A NetCDF file has three basic components:\n"
   ]
  },
  {
   "attachments": {},
   "cell_type": "markdown",
   "metadata": {},
   "source": [
    "\n",
    "**Attributes** (Metadata) that describe the dataset as a whole and \n",
    "all contained data variables or dimensions. \n",
    "- “Global attributes” describe the entire dataset with metadata like project title, institution, contact information, program version etc.\n",
    "- “Variable attributes” describe properties of the data variables like units, scaling factors, offsets etc.\n"
   ]
  },
  {
   "attachments": {},
   "cell_type": "markdown",
   "metadata": {},
   "source": [
    "**Dimensions** are used to define the shape of the data variables (arrays) in the netCDF file."
   ]
  },
  {
   "attachments": {},
   "cell_type": "markdown",
   "metadata": {},
   "source": [
    "**Variables** hold the actual data values.\n",
    "- Variables store model output data like water heights, wind velocities, pressures etc. but also information like latitudes, longitudes, times etc. \n",
    "- Each variable can also have attributes (metadata) that describe the data.\n",
    "- The NetCDF format stores variables as arrays that are defined by unique variable names, data types, and array dimensions. \n"
   ]
  },
  {
   "attachments": {},
   "cell_type": "markdown",
   "metadata": {},
   "source": [
    "## Part 3: Accessing NetCDF Attributes"
   ]
  },
  {
   "attachments": {},
   "cell_type": "markdown",
   "metadata": {},
   "source": [
    "### 3.1 - Dataset attributes (metadata)"
   ]
  },
  {
   "attachments": {},
   "cell_type": "markdown",
   "metadata": {},
   "source": [
    "When we print the entire NetCDF dataset (myNetCDF), we will get an overview of the file, including:\n",
    "- the **global attributes** describing the entire dataset\n",
    "- the **dimensions** defining the shape of the contained data arrays\n",
    "- the names of all data **variables** contained in the NetCDF file\n"
   ]
  },
  {
   "cell_type": "code",
   "execution_count": 4,
   "metadata": {},
   "outputs": [
    {
     "name": "stdout",
     "output_type": "stream",
     "text": [
      "<class 'netCDF4._netCDF4.Dataset'>\n",
      "root group (NETCDF4_CLASSIC data model, file format HDF5):\n",
      "    _FillValue: -99999.0\n",
      "    model: ADCIRC\n",
      "    version: 51.52.29\n",
      "    grid_type: Triangular\n",
      "    description: Shinnecock Inlet V20051108               ! UPTO 32 CHARACTER ALPHANUMERIC RUN D\n",
      "    agrid: Shinacock Inlet Coarse Grid\n",
      "    title: adcirc.org netcdf examples project\n",
      "    institution: UNC CH Institute of Marine Sciences\n",
      "    source: adcirc.org examples page\n",
      "    history: based on Shinnecock Inlet but with netcdf output\n",
      "    references: http://adcirc.org/home/documentation/example-problems/shinnecock-inlet-ny-with-t\n",
      "    comments: netcdf4 format was used (fully compatible with hdf5)\n",
      "    host: adcirc.org\n",
      "    convention: CF\n",
      "    Conventions: UGRID-0.9.0\n",
      "    contact: cfulcher@email.unc.edu\n",
      "    creation_date: 2015-12-14  4:18:28 -05:00\n",
      "    modification_date: 2015-12-14  4:18:28 -05:00\n",
      "    fort.15: ==== Input File Parameters (below) ====\n",
      "    dt: 6.0\n",
      "    ihot: 0\n",
      "    ics: 2\n",
      "    nolibf: 2\n",
      "    nolifa: 2\n",
      "    nolica: 1\n",
      "    nolicat: 1\n",
      "    nwp: 0\n",
      "    ncor: 1\n",
      "    ntip: 1\n",
      "    nws: 0\n",
      "    nramp: 0\n",
      "    tau0: 0.005\n",
      "    statim: 0.0\n",
      "    reftim: 0.0\n",
      "    rnday: 5.0\n",
      "    dramp: 2.0\n",
      "    a00: 0.35\n",
      "    b00: 0.3\n",
      "    c00: 0.35\n",
      "    h0: 0.05\n",
      "    slam0: -72.43\n",
      "    sfea0: 40.66\n",
      "    cf: 0.0025\n",
      "    eslm: 5.0\n",
      "    cori: 0.0001\n",
      "    ntif: 5\n",
      "    nbfr: 5\n",
      "    dimensions(sizes): time(1), node(3070), nele(5780), nvertex(3), nope(1), max_nvdll(75), nbou(1), max_nvell(570), mesh(1)\n",
      "    variables(dimensions): float64 time(time), float64 x(node), float64 y(node), int32 element(nele, nvertex), int32 adcirc_mesh(mesh), int32 neta(), int32 nvdll(nope), int32 max_nvdll(), int32 ibtypee(nope), int32 nbdv(max_nvdll, nope), int32 nvel(), int32 nvell(nbou), int32 max_nvell(), int32 ibtype(nbou), int32 nbvv(max_nvell, nbou), float64 depth(node), float64 zeta_max(node), float64 time_of_zeta_max(node)\n",
      "    groups: \n"
     ]
    }
   ],
   "source": [
    "# getting the attributes (metadata) of the file\n",
    "print(myNetCDF)\n"
   ]
  },
  {
   "attachments": {},
   "cell_type": "markdown",
   "metadata": {},
   "source": [
    "With this information we can explore the variables and their dimensions in more depth. To get a better understanding of how that works, we will dive in to see how the NetCDF4 library reads in the NetCDF files in Python."
   ]
  },
  {
   "attachments": {},
   "cell_type": "markdown",
   "metadata": {},
   "source": [
    "### 3.2 - Utilizing the Python dictionary structure for working with NetCDF\n"
   ]
  },
  {
   "attachments": {},
   "cell_type": "markdown",
   "metadata": {},
   "source": [
    "When we read a NetCDF file with NetCDF4, the NetCDF ``variables`` and ``dimensions`` are represented as Python **dictionaries**. \n",
    "- The keys are the variable ‘names’.\n",
    "- The values are associated NumPy arrays that contain the data and any attributes. \n"
   ]
  },
  {
   "attachments": {},
   "cell_type": "markdown",
   "metadata": {},
   "source": [
    "All NetCDF variables are read as **dictionaries** in the **[key/value]** structure with the values being NumPy arrays."
   ]
  },
  {
   "attachments": {},
   "cell_type": "markdown",
   "metadata": {},
   "source": [
    "How do we access the variables and dimensions in our NetCDF file?\n",
    "- ``mynetcdf.variables()`` is a dictionary containing the variables\n",
    "-``mynetcdf.dimensions()`` is a dictionary containing the dimensions of the variables"
   ]
  },
  {
   "attachments": {},
   "cell_type": "markdown",
   "metadata": {},
   "source": [
    "As we have already explored in,  3.1 - Dataset attributes (metadata)how to get a list of all variable names contained in the NetCDF file by printing the entire dataset.\n"
   ]
  },
  {
   "cell_type": "code",
   "execution_count": 5,
   "metadata": {},
   "outputs": [
    {
     "name": "stdout",
     "output_type": "stream",
     "text": [
      "<class 'netCDF4._netCDF4.Dataset'>\n",
      "root group (NETCDF4_CLASSIC data model, file format HDF5):\n",
      "    _FillValue: -99999.0\n",
      "    model: ADCIRC\n",
      "    version: 51.52.29\n",
      "    grid_type: Triangular\n",
      "    description: Shinnecock Inlet V20051108               ! UPTO 32 CHARACTER ALPHANUMERIC RUN D\n",
      "    agrid: Shinacock Inlet Coarse Grid\n",
      "    title: adcirc.org netcdf examples project\n",
      "    institution: UNC CH Institute of Marine Sciences\n",
      "    source: adcirc.org examples page\n",
      "    history: based on Shinnecock Inlet but with netcdf output\n",
      "    references: http://adcirc.org/home/documentation/example-problems/shinnecock-inlet-ny-with-t\n",
      "    comments: netcdf4 format was used (fully compatible with hdf5)\n",
      "    host: adcirc.org\n",
      "    convention: CF\n",
      "    Conventions: UGRID-0.9.0\n",
      "    contact: cfulcher@email.unc.edu\n",
      "    creation_date: 2015-12-14  4:18:28 -05:00\n",
      "    modification_date: 2015-12-14  4:18:28 -05:00\n",
      "    fort.15: ==== Input File Parameters (below) ====\n",
      "    dt: 6.0\n",
      "    ihot: 0\n",
      "    ics: 2\n",
      "    nolibf: 2\n",
      "    nolifa: 2\n",
      "    nolica: 1\n",
      "    nolicat: 1\n",
      "    nwp: 0\n",
      "    ncor: 1\n",
      "    ntip: 1\n",
      "    nws: 0\n",
      "    nramp: 0\n",
      "    tau0: 0.005\n",
      "    statim: 0.0\n",
      "    reftim: 0.0\n",
      "    rnday: 5.0\n",
      "    dramp: 2.0\n",
      "    a00: 0.35\n",
      "    b00: 0.3\n",
      "    c00: 0.35\n",
      "    h0: 0.05\n",
      "    slam0: -72.43\n",
      "    sfea0: 40.66\n",
      "    cf: 0.0025\n",
      "    eslm: 5.0\n",
      "    cori: 0.0001\n",
      "    ntif: 5\n",
      "    nbfr: 5\n",
      "    dimensions(sizes): time(1), node(3070), nele(5780), nvertex(3), nope(1), max_nvdll(75), nbou(1), max_nvell(570), mesh(1)\n",
      "    variables(dimensions): float64 time(time), float64 x(node), float64 y(node), int32 element(nele, nvertex), int32 adcirc_mesh(mesh), int32 neta(), int32 nvdll(nope), int32 max_nvdll(), int32 ibtypee(nope), int32 nbdv(max_nvdll, nope), int32 nvel(), int32 nvell(nbou), int32 max_nvell(), int32 ibtype(nbou), int32 nbvv(max_nvell, nbou), float64 depth(node), float64 zeta_max(node), float64 time_of_zeta_max(node)\n",
      "    groups: \n"
     ]
    }
   ],
   "source": [
    "print(myNetCDF)"
   ]
  },
  {
   "attachments": {},
   "cell_type": "markdown",
   "metadata": {},
   "source": [
    "Alternatively, we can access all variable names by calling the “keys()” of the variables dictionary. \n"
   ]
  },
  {
   "cell_type": "code",
   "execution_count": 6,
   "metadata": {},
   "outputs": [
    {
     "name": "stdout",
     "output_type": "stream",
     "text": [
      "dict_keys(['time', 'x', 'y', 'element', 'adcirc_mesh', 'neta', 'nvdll', 'max_nvdll', 'ibtypee', 'nbdv', 'nvel', 'nvell', 'max_nvell', 'ibtype', 'nbvv', 'depth', 'zeta_max', 'time_of_zeta_max'])\n"
     ]
    }
   ],
   "source": [
    "# get all variables names as contained in the file by printing the dictionary ’keys’\n",
    "all_variable_names = myNetCDF.variables.keys()\n",
    "print(all_variable_names)"
   ]
  },
  {
   "attachments": {},
   "cell_type": "markdown",
   "metadata": {},
   "source": [
    "### 3.3 - Variable attributes (metadata)\n"
   ]
  },
  {
   "attachments": {},
   "cell_type": "markdown",
   "metadata": {},
   "source": [
    "The NetCDF variables hold the actual data values of the dataset. Each variable can also contain associated attributes that describe the variable.\n",
    "\n",
    "Let’s first get an overview of all variable attributes that our NetCDF has.List of all variable attributes\n"
   ]
  },
  {
   "attachments": {},
   "cell_type": "markdown",
   "metadata": {},
   "source": [
    "#### List of all variable attributes"
   ]
  },
  {
   "cell_type": "code",
   "execution_count": 7,
   "metadata": {},
   "outputs": [
    {
     "name": "stdout",
     "output_type": "stream",
     "text": [
      "<class 'netCDF4._netCDF4.Variable'>\n",
      "float64 time(time)\n",
      "    long_name: model time\n",
      "    standard_name: time\n",
      "    units: seconds since 2015-12-14 00:00:00 UTC\n",
      "    base_date: 2015-12-14 00:00:00 UTC\n",
      "unlimited dimensions: time\n",
      "current shape = (1,)\n",
      "filling on, default _FillValue of 9.969209968386869e+36 used\n",
      "<class 'netCDF4._netCDF4.Variable'>\n",
      "float64 x(node)\n",
      "    long_name: longitude\n",
      "    standard_name: longitude\n",
      "    units: degrees_east\n",
      "    positive: east\n",
      "unlimited dimensions: \n",
      "current shape = (3070,)\n",
      "filling on, default _FillValue of 9.969209968386869e+36 used\n",
      "<class 'netCDF4._netCDF4.Variable'>\n",
      "float64 y(node)\n",
      "    long_name: latitude\n",
      "    standard_name: latitude\n",
      "    units: degrees_north\n",
      "    positive: north\n",
      "unlimited dimensions: \n",
      "current shape = (3070,)\n",
      "filling on, default _FillValue of 9.969209968386869e+36 used\n",
      "<class 'netCDF4._netCDF4.Variable'>\n",
      "int32 element(nele, nvertex)\n",
      "    long_name: element\n",
      "    cf_role: face_node_connectivity\n",
      "    start_index: 1\n",
      "    units: nondimensional\n",
      "unlimited dimensions: \n",
      "current shape = (5780, 3)\n",
      "filling on, default _FillValue of -2147483647 used\n",
      "<class 'netCDF4._netCDF4.Variable'>\n",
      "int32 adcirc_mesh(mesh)\n",
      "    long_name: mesh_topology\n",
      "    cf_role: mesh_topology\n",
      "    topology_dimension: 2\n",
      "    node_coordinates: x y\n",
      "    face_node_connectivity: element\n",
      "unlimited dimensions: \n",
      "current shape = (1,)\n",
      "filling on, default _FillValue of -2147483647 used\n",
      "<class 'netCDF4._netCDF4.Variable'>\n",
      "int32 neta()\n",
      "    long_name: total number of elevation specified boundary nodes\n",
      "    units: nondimensional\n",
      "unlimited dimensions: \n",
      "current shape = ()\n",
      "filling on, default _FillValue of -2147483647 used\n",
      "<class 'netCDF4._netCDF4.Variable'>\n",
      "int32 nvdll(nope)\n",
      "    long_name: number of nodes in each elevation specified boundary segment\n",
      "    units: nondimensional\n",
      "unlimited dimensions: \n",
      "current shape = (1,)\n",
      "filling on, default _FillValue of -2147483647 used\n",
      "<class 'netCDF4._netCDF4.Variable'>\n",
      "int32 max_nvdll()\n",
      "unlimited dimensions: \n",
      "current shape = ()\n",
      "filling on, default _FillValue of -2147483647 used\n",
      "<class 'netCDF4._netCDF4.Variable'>\n",
      "int32 ibtypee(nope)\n",
      "    long_name: elevation boundary type\n",
      "    units: nondimensional\n",
      "unlimited dimensions: \n",
      "current shape = (1,)\n",
      "filling on, default _FillValue of -2147483647 used\n",
      "<class 'netCDF4._netCDF4.Variable'>\n",
      "int32 nbdv(max_nvdll, nope)\n",
      "    long_name: node numbers on each elevation specified boundary segment\n",
      "    units: nondimensional\n",
      "unlimited dimensions: \n",
      "current shape = (75, 1)\n",
      "filling on, default _FillValue of -2147483647 used\n",
      "<class 'netCDF4._netCDF4.Variable'>\n",
      "int32 nvel()\n",
      "    long_name: total number of normal flow specified boundary nodes including both the front and back nodes on internal barrier boundaries\n",
      "    units: nondimensional\n",
      "unlimited dimensions: \n",
      "current shape = ()\n",
      "filling on, default _FillValue of -2147483647 used\n",
      "<class 'netCDF4._netCDF4.Variable'>\n",
      "int32 nvell(nbou)\n",
      "    long_name: number of nodes in each normal flow specified boundary segment\n",
      "    units: nondimensional\n",
      "unlimited dimensions: \n",
      "current shape = (1,)\n",
      "filling on, default _FillValue of -2147483647 used\n",
      "<class 'netCDF4._netCDF4.Variable'>\n",
      "int32 max_nvell()\n",
      "unlimited dimensions: \n",
      "current shape = ()\n",
      "filling on, default _FillValue of -2147483647 used\n",
      "<class 'netCDF4._netCDF4.Variable'>\n",
      "int32 ibtype(nbou)\n",
      "    long_name: type of normal flow (discharge) boundary\n",
      "    units: nondimensional\n",
      "unlimited dimensions: \n",
      "current shape = (1,)\n",
      "filling on, default _FillValue of -2147483647 used\n",
      "<class 'netCDF4._netCDF4.Variable'>\n",
      "int32 nbvv(max_nvell, nbou)\n",
      "    long_name: node numbers on normal flow boundary segment\n",
      "    units: nondimensional\n",
      "unlimited dimensions: \n",
      "current shape = (570, 1)\n",
      "filling on, default _FillValue of -2147483647 used\n",
      "<class 'netCDF4._netCDF4.Variable'>\n",
      "float64 depth(node)\n",
      "    long_name: distance  below geoid\n",
      "    standard_name: depth below geoid\n",
      "    coordinates: time y x\n",
      "    location: node\n",
      "    mesh: adcirc_mesh\n",
      "    units: m\n",
      "unlimited dimensions: \n",
      "current shape = (3070,)\n",
      "filling on, default _FillValue of 9.969209968386869e+36 used\n",
      "<class 'netCDF4._netCDF4.Variable'>\n",
      "float64 zeta_max(node)\n",
      "    long_name: maximum water surface elevationabove geoid\n",
      "    standard_name: maximum_sea_surface_height_above_geoid\n",
      "    coordinates: y x\n",
      "    location: node\n",
      "    mesh: adcirc_mesh\n",
      "    units: m\n",
      "    _FillValue: -99999.0\n",
      "unlimited dimensions: \n",
      "current shape = (3070,)\n",
      "filling on\n",
      "<class 'netCDF4._netCDF4.Variable'>\n",
      "float64 time_of_zeta_max(node)\n",
      "    long_name: time of maximum water surface elevationabove geoid\n",
      "    standard_name: time_of_maximum_sea_surface_height_above_geoid\n",
      "    coordinates: y x\n",
      "    location: node\n",
      "    mesh: adcirc_mesh\n",
      "    units: sec\n",
      "    _FillValue: -99999.0\n",
      "unlimited dimensions: \n",
      "current shape = (3070,)\n",
      "filling on\n"
     ]
    }
   ],
   "source": [
    "# getting a list of all attributes (metadata) of all variables in the file\n",
    "for var in myNetCDF.variables.values():\n",
    "   print(var)\n"
   ]
  },
  {
   "attachments": {},
   "cell_type": "markdown",
   "metadata": {},
   "source": [
    "#### Attributes of a specific variable \n"
   ]
  },
  {
   "attachments": {},
   "cell_type": "markdown",
   "metadata": {},
   "source": [
    "If we are interested in a specific variable and want to explore the associated attributes, we can do so by calling the **variable name**."
   ]
  },
  {
   "cell_type": "code",
   "execution_count": 8,
   "metadata": {},
   "outputs": [
    {
     "name": "stdout",
     "output_type": "stream",
     "text": [
      "<class 'netCDF4._netCDF4.Variable'>\n",
      "float64 x(node)\n",
      "    long_name: longitude\n",
      "    standard_name: longitude\n",
      "    units: degrees_east\n",
      "    positive: east\n",
      "unlimited dimensions: \n",
      "current shape = (3070,)\n",
      "filling on, default _FillValue of 9.969209968386869e+36 used\n"
     ]
    }
   ],
   "source": [
    "# access the attributes (metadata) of the variable ’x’ (longitudes)\n",
    "print(myNetCDF.variables['x'])\t\n"
   ]
  },
  {
   "attachments": {},
   "cell_type": "markdown",
   "metadata": {},
   "source": [
    "### 3.4 - Dimensions attributes (metadata)\n"
   ]
  },
  {
   "attachments": {},
   "cell_type": "markdown",
   "metadata": {},
   "source": [
    "If we want to find out in what array structure our NetCDF variables are stored, we can use the **dimensions**. \n",
    "\n",
    "Similar to our variables, let’s first get an overview of all dimensions attributes that our NetCDF has.\n"
   ]
  },
  {
   "attachments": {},
   "cell_type": "markdown",
   "metadata": {},
   "source": [
    "#### List of all dimensions attributes\n"
   ]
  },
  {
   "cell_type": "code",
   "execution_count": 9,
   "metadata": {},
   "outputs": [
    {
     "name": "stdout",
     "output_type": "stream",
     "text": [
      "<class 'netCDF4._netCDF4.Dimension'> (unlimited): name = 'time', size = 1\n",
      "<class 'netCDF4._netCDF4.Dimension'>: name = 'node', size = 3070\n",
      "<class 'netCDF4._netCDF4.Dimension'>: name = 'nele', size = 5780\n",
      "<class 'netCDF4._netCDF4.Dimension'>: name = 'nvertex', size = 3\n",
      "<class 'netCDF4._netCDF4.Dimension'>: name = 'nope', size = 1\n",
      "<class 'netCDF4._netCDF4.Dimension'>: name = 'max_nvdll', size = 75\n",
      "<class 'netCDF4._netCDF4.Dimension'>: name = 'nbou', size = 1\n",
      "<class 'netCDF4._netCDF4.Dimension'>: name = 'max_nvell', size = 570\n",
      "<class 'netCDF4._netCDF4.Dimension'>: name = 'mesh', size = 1\n"
     ]
    }
   ],
   "source": [
    "# getting a list of all attributes (metadata) of all dimensions in the file\n",
    "for dim in myNetCDF.dimensions.values():\n",
    "   print(dim)"
   ]
  }
 ],
 "metadata": {
  "kernelspec": {
   "display_name": ".venv",
   "language": "python",
   "name": "python3"
  },
  "language_info": {
   "codemirror_mode": {
    "name": "ipython",
    "version": 3
   },
   "file_extension": ".py",
   "mimetype": "text/x-python",
   "name": "python",
   "nbconvert_exporter": "python",
   "pygments_lexer": "ipython3",
   "version": "3.11.3"
  },
  "orig_nbformat": 4
 },
 "nbformat": 4,
 "nbformat_minor": 2
}
